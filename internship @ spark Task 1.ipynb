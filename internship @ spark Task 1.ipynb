{
 "cells": [
  {
   "cell_type": "markdown",
   "metadata": {},
   "source": [
    "# AUTHOR : SHIVANI JAISWAL"
   ]
  },
  {
   "cell_type": "markdown",
   "metadata": {},
   "source": [
    "### INTERN IN SPARK OF FOUNDATAION   #GRIPNOV202  # tsf \n",
    "  "
   ]
  },
  {
   "cell_type": "markdown",
   "metadata": {},
   "source": [
    "### TASK 1 : PREDICT THE PERCENTAGE GAINED BY STUDENTS WITH RESPECT TO HOURS OF STUDY AND SCORE THEY GETT IN THEIR EXAM."
   ]
  },
  {
   "cell_type": "markdown",
   "metadata": {},
   "source": [
    "## USING LINEAR REGRESSION FOR THIS TASK"
   ]
  },
  {
   "cell_type": "markdown",
   "metadata": {},
   "source": [
    "### Linear Regression with Python Scikit Learn\n",
    "In this section we will see how the Python Scikit-Learn library for machine learning can be used to implement regression functions. We will start with simple linear regression involving two variables.\n",
    "\n",
    "Simple Linear Regression\n",
    "In this regression task we will predict the percentage of marks that a student is expected to score based upon the number of hours they studied. This is a simple linear regression task as it involves just two variables.\n"
   ]
  },
  {
   "cell_type": "markdown",
   "metadata": {},
   "source": [
    "### IMPORTING LIBRARY FOR PREDICTION"
   ]
  },
  {
   "cell_type": "code",
   "execution_count": 74,
   "metadata": {},
   "outputs": [],
   "source": [
    "import numpy as np\n",
    "import matplotlib.pyplot as plt\n",
    "import pandas as pd\n",
    "import seaborn as sns"
   ]
  },
  {
   "cell_type": "markdown",
   "metadata": {},
   "source": [
    "### IMPORTING DATASETS"
   ]
  },
  {
   "cell_type": "code",
   "execution_count": 75,
   "metadata": {},
   "outputs": [
    {
     "data": {
      "text/html": [
       "<div>\n",
       "<style scoped>\n",
       "    .dataframe tbody tr th:only-of-type {\n",
       "        vertical-align: middle;\n",
       "    }\n",
       "\n",
       "    .dataframe tbody tr th {\n",
       "        vertical-align: top;\n",
       "    }\n",
       "\n",
       "    .dataframe thead th {\n",
       "        text-align: right;\n",
       "    }\n",
       "</style>\n",
       "<table border=\"1\" class=\"dataframe\">\n",
       "  <thead>\n",
       "    <tr style=\"text-align: right;\">\n",
       "      <th></th>\n",
       "      <th>Hours</th>\n",
       "      <th>Scores</th>\n",
       "    </tr>\n",
       "  </thead>\n",
       "  <tbody>\n",
       "    <tr>\n",
       "      <th>0</th>\n",
       "      <td>2.5</td>\n",
       "      <td>21</td>\n",
       "    </tr>\n",
       "    <tr>\n",
       "      <th>1</th>\n",
       "      <td>5.1</td>\n",
       "      <td>47</td>\n",
       "    </tr>\n",
       "    <tr>\n",
       "      <th>2</th>\n",
       "      <td>3.2</td>\n",
       "      <td>27</td>\n",
       "    </tr>\n",
       "    <tr>\n",
       "      <th>3</th>\n",
       "      <td>8.5</td>\n",
       "      <td>75</td>\n",
       "    </tr>\n",
       "    <tr>\n",
       "      <th>4</th>\n",
       "      <td>3.5</td>\n",
       "      <td>30</td>\n",
       "    </tr>\n",
       "  </tbody>\n",
       "</table>\n",
       "</div>"
      ],
      "text/plain": [
       "   Hours  Scores\n",
       "0    2.5      21\n",
       "1    5.1      47\n",
       "2    3.2      27\n",
       "3    8.5      75\n",
       "4    3.5      30"
      ]
     },
     "execution_count": 75,
     "metadata": {},
     "output_type": "execute_result"
    }
   ],
   "source": [
    "df = pd.read_csv(\"C:\\\\Users\\\\ABC\\\\Desktop\\\\student_scores - student_scores.csv\")\n",
    "df.head()"
   ]
  },
  {
   "cell_type": "code",
   "execution_count": 76,
   "metadata": {},
   "outputs": [
    {
     "data": {
      "text/plain": [
       "(25, 2)"
      ]
     },
     "execution_count": 76,
     "metadata": {},
     "output_type": "execute_result"
    }
   ],
   "source": [
    "df.shape"
   ]
  },
  {
   "cell_type": "markdown",
   "metadata": {},
   "source": [
    "### DATA ANALYSING "
   ]
  },
  {
   "cell_type": "code",
   "execution_count": 77,
   "metadata": {},
   "outputs": [
    {
     "name": "stdout",
     "output_type": "stream",
     "text": [
      "<class 'pandas.core.frame.DataFrame'>\n",
      "RangeIndex: 25 entries, 0 to 24\n",
      "Data columns (total 2 columns):\n",
      " #   Column  Non-Null Count  Dtype  \n",
      "---  ------  --------------  -----  \n",
      " 0   Hours   25 non-null     float64\n",
      " 1   Scores  25 non-null     int64  \n",
      "dtypes: float64(1), int64(1)\n",
      "memory usage: 528.0 bytes\n"
     ]
    }
   ],
   "source": [
    "df.info()"
   ]
  },
  {
   "cell_type": "code",
   "execution_count": 78,
   "metadata": {},
   "outputs": [
    {
     "data": {
      "text/html": [
       "<div>\n",
       "<style scoped>\n",
       "    .dataframe tbody tr th:only-of-type {\n",
       "        vertical-align: middle;\n",
       "    }\n",
       "\n",
       "    .dataframe tbody tr th {\n",
       "        vertical-align: top;\n",
       "    }\n",
       "\n",
       "    .dataframe thead th {\n",
       "        text-align: right;\n",
       "    }\n",
       "</style>\n",
       "<table border=\"1\" class=\"dataframe\">\n",
       "  <thead>\n",
       "    <tr style=\"text-align: right;\">\n",
       "      <th></th>\n",
       "      <th>Hours</th>\n",
       "      <th>Scores</th>\n",
       "    </tr>\n",
       "  </thead>\n",
       "  <tbody>\n",
       "    <tr>\n",
       "      <th>count</th>\n",
       "      <td>25.000000</td>\n",
       "      <td>25.000000</td>\n",
       "    </tr>\n",
       "    <tr>\n",
       "      <th>mean</th>\n",
       "      <td>5.012000</td>\n",
       "      <td>51.480000</td>\n",
       "    </tr>\n",
       "    <tr>\n",
       "      <th>std</th>\n",
       "      <td>2.525094</td>\n",
       "      <td>25.286887</td>\n",
       "    </tr>\n",
       "    <tr>\n",
       "      <th>min</th>\n",
       "      <td>1.100000</td>\n",
       "      <td>17.000000</td>\n",
       "    </tr>\n",
       "    <tr>\n",
       "      <th>25%</th>\n",
       "      <td>2.700000</td>\n",
       "      <td>30.000000</td>\n",
       "    </tr>\n",
       "    <tr>\n",
       "      <th>50%</th>\n",
       "      <td>4.800000</td>\n",
       "      <td>47.000000</td>\n",
       "    </tr>\n",
       "    <tr>\n",
       "      <th>75%</th>\n",
       "      <td>7.400000</td>\n",
       "      <td>75.000000</td>\n",
       "    </tr>\n",
       "    <tr>\n",
       "      <th>max</th>\n",
       "      <td>9.200000</td>\n",
       "      <td>95.000000</td>\n",
       "    </tr>\n",
       "  </tbody>\n",
       "</table>\n",
       "</div>"
      ],
      "text/plain": [
       "           Hours     Scores\n",
       "count  25.000000  25.000000\n",
       "mean    5.012000  51.480000\n",
       "std     2.525094  25.286887\n",
       "min     1.100000  17.000000\n",
       "25%     2.700000  30.000000\n",
       "50%     4.800000  47.000000\n",
       "75%     7.400000  75.000000\n",
       "max     9.200000  95.000000"
      ]
     },
     "execution_count": 78,
     "metadata": {},
     "output_type": "execute_result"
    }
   ],
   "source": [
    "df.describe()"
   ]
  },
  {
   "cell_type": "markdown",
   "metadata": {},
   "source": [
    "### DATA VISUALISATION BY DIFFERENT WAYS \n",
    "Let's plot our data points on 2-D graph to eyeball our dataset and see if we can manually find any relationship between the data. We can create the plot with the following script:"
   ]
  },
  {
   "cell_type": "code",
   "execution_count": 79,
   "metadata": {},
   "outputs": [
    {
     "data": {
      "text/plain": [
       "<matplotlib.legend.Legend at 0x11bbf709880>"
      ]
     },
     "execution_count": 79,
     "metadata": {},
     "output_type": "execute_result"
    },
    {
     "data": {
      "image/png": "[encoded data removed]",
      "text/plain": [
       "<Figure size 432x288 with 1 Axes>"
      ]
     },
     "metadata": {
      "needs_background": "light"
     },
     "output_type": "display_data"
    }
   ],
   "source": [
    "df.plot(\"Hours\",\"Scores\",style = \"o\")\n",
    "plt.xlabel(\"Hours\")\n",
    "plt.ylabel(\"Scores\")\n",
    "plt.title(\"Relationship between score and hours\")\n",
    "plt.legend()"
   ]
  },
  {
   "cell_type": "code",
   "execution_count": 80,
   "metadata": {},
   "outputs": [
    {
     "data": {
      "text/html": [
       "<div>\n",
       "<style scoped>\n",
       "    .dataframe tbody tr th:only-of-type {\n",
       "        vertical-align: middle;\n",
       "    }\n",
       "\n",
       "    .dataframe tbody tr th {\n",
       "        vertical-align: top;\n",
       "    }\n",
       "\n",
       "    .dataframe thead th {\n",
       "        text-align: right;\n",
       "    }\n",
       "</style>\n",
       "<table border=\"1\" class=\"dataframe\">\n",
       "  <thead>\n",
       "    <tr style=\"text-align: right;\">\n",
       "      <th></th>\n",
       "      <th>Hours</th>\n",
       "      <th>Scores</th>\n",
       "    </tr>\n",
       "  </thead>\n",
       "  <tbody>\n",
       "    <tr>\n",
       "      <th>Hours</th>\n",
       "      <td>1.000000</td>\n",
       "      <td>0.976191</td>\n",
       "    </tr>\n",
       "    <tr>\n",
       "      <th>Scores</th>\n",
       "      <td>0.976191</td>\n",
       "      <td>1.000000</td>\n",
       "    </tr>\n",
       "  </tbody>\n",
       "</table>\n",
       "</div>"
      ],
      "text/plain": [
       "           Hours    Scores\n",
       "Hours   1.000000  0.976191\n",
       "Scores  0.976191  1.000000"
      ]
     },
     "execution_count": 80,
     "metadata": {},
     "output_type": "execute_result"
    }
   ],
   "source": [
    "df.corr()"
   ]
  },
  {
   "cell_type": "code",
   "execution_count": 81,
   "metadata": {},
   "outputs": [
    {
     "data": {
      "text/plain": [
       "<matplotlib.axes._subplots.AxesSubplot at 0x11bbf7744f0>"
      ]
     },
     "execution_count": 81,
     "metadata": {},
     "output_type": "execute_result"
    },
    {
     "data": {
      "image/png": "[encoded data removed]",
      "text/plain": [
       "<Figure size 432x288 with 2 Axes>"
      ]
     },
     "metadata": {
      "needs_background": "light"
     },
     "output_type": "display_data"
    }
   ],
   "source": [
    "sns.heatmap(df.corr())"
   ]
  },
  {
   "cell_type": "code",
   "execution_count": 82,
   "metadata": {
    "scrolled": true
   },
   "outputs": [
    {
     "name": "stderr",
     "output_type": "stream",
     "text": [
      "C:\\ProgramData\\Anaconda3\\lib\\site-packages\\seaborn\\distributions.py:283: UserWarning: Data must have variance to compute a kernel density estimate.\n",
      "  warnings.warn(msg, UserWarning)\n",
      "C:\\ProgramData\\Anaconda3\\lib\\site-packages\\seaborn\\distributions.py:283: UserWarning: Data must have variance to compute a kernel density estimate.\n",
      "  warnings.warn(msg, UserWarning)\n",
      "C:\\ProgramData\\Anaconda3\\lib\\site-packages\\seaborn\\distributions.py:283: UserWarning: Data must have variance to compute a kernel density estimate.\n",
      "  warnings.warn(msg, UserWarning)\n",
      "C:\\ProgramData\\Anaconda3\\lib\\site-packages\\seaborn\\distributions.py:283: UserWarning: Data must have variance to compute a kernel density estimate.\n",
      "  warnings.warn(msg, UserWarning)\n",
      "C:\\ProgramData\\Anaconda3\\lib\\site-packages\\seaborn\\distributions.py:283: UserWarning: Data must have variance to compute a kernel density estimate.\n",
      "  warnings.warn(msg, UserWarning)\n",
      "C:\\ProgramData\\Anaconda3\\lib\\site-packages\\seaborn\\distributions.py:283: UserWarning: Data must have variance to compute a kernel density estimate.\n",
      "  warnings.warn(msg, UserWarning)\n",
      "C:\\ProgramData\\Anaconda3\\lib\\site-packages\\seaborn\\distributions.py:283: UserWarning: Data must have variance to compute a kernel density estimate.\n",
      "  warnings.warn(msg, UserWarning)\n",
      "C:\\ProgramData\\Anaconda3\\lib\\site-packages\\seaborn\\distributions.py:283: UserWarning: Data must have variance to compute a kernel density estimate.\n",
      "  warnings.warn(msg, UserWarning)\n",
      "C:\\ProgramData\\Anaconda3\\lib\\site-packages\\seaborn\\distributions.py:283: UserWarning: Data must have variance to compute a kernel density estimate.\n",
      "  warnings.warn(msg, UserWarning)\n",
      "C:\\ProgramData\\Anaconda3\\lib\\site-packages\\seaborn\\distributions.py:283: UserWarning: Data must have variance to compute a kernel density estimate.\n",
      "  warnings.warn(msg, UserWarning)\n",
      "C:\\ProgramData\\Anaconda3\\lib\\site-packages\\seaborn\\distributions.py:283: UserWarning: Data must have variance to compute a kernel density estimate.\n",
      "  warnings.warn(msg, UserWarning)\n",
      "C:\\ProgramData\\Anaconda3\\lib\\site-packages\\seaborn\\distributions.py:283: UserWarning: Data must have variance to compute a kernel density estimate.\n",
      "  warnings.warn(msg, UserWarning)\n",
      "C:\\ProgramData\\Anaconda3\\lib\\site-packages\\seaborn\\distributions.py:283: UserWarning: Data must have variance to compute a kernel density estimate.\n",
      "  warnings.warn(msg, UserWarning)\n",
      "C:\\ProgramData\\Anaconda3\\lib\\site-packages\\seaborn\\distributions.py:283: UserWarning: Data must have variance to compute a kernel density estimate.\n",
      "  warnings.warn(msg, UserWarning)\n",
      "C:\\ProgramData\\Anaconda3\\lib\\site-packages\\seaborn\\distributions.py:283: UserWarning: Data must have variance to compute a kernel density estimate.\n",
      "  warnings.warn(msg, UserWarning)\n",
      "C:\\ProgramData\\Anaconda3\\lib\\site-packages\\seaborn\\distributions.py:283: UserWarning: Data must have variance to compute a kernel density estimate.\n",
      "  warnings.warn(msg, UserWarning)\n",
      "C:\\ProgramData\\Anaconda3\\lib\\site-packages\\seaborn\\distributions.py:283: UserWarning: Data must have variance to compute a kernel density estimate.\n",
      "  warnings.warn(msg, UserWarning)\n",
      "C:\\ProgramData\\Anaconda3\\lib\\site-packages\\seaborn\\distributions.py:283: UserWarning: Data must have variance to compute a kernel density estimate.\n",
      "  warnings.warn(msg, UserWarning)\n",
      "C:\\ProgramData\\Anaconda3\\lib\\site-packages\\seaborn\\distributions.py:283: UserWarning: Data must have variance to compute a kernel density estimate.\n",
      "  warnings.warn(msg, UserWarning)\n",
      "C:\\ProgramData\\Anaconda3\\lib\\site-packages\\seaborn\\distributions.py:283: UserWarning: Data must have variance to compute a kernel density estimate.\n",
      "  warnings.warn(msg, UserWarning)\n",
      "C:\\ProgramData\\Anaconda3\\lib\\site-packages\\seaborn\\distributions.py:283: UserWarning: Data must have variance to compute a kernel density estimate.\n",
      "  warnings.warn(msg, UserWarning)\n"
     ]
    },
    {
     "data": {
      "text/plain": [
       "<seaborn.axisgrid.PairGrid at 0x11bbf7d6ee0>"
      ]
     },
     "execution_count": 82,
     "metadata": {},
     "output_type": "execute_result"
    },
    {
     "data": {
      "image/png": "[encoded data removed]",
      "text/plain": [
       "<Figure size 232x180 with 2 Axes>"
      ]
     },
     "metadata": {
      "needs_background": "light"
     },
     "output_type": "display_data"
    }
   ],
   "source": [
    "sns.pairplot(data = df,hue = \"Hours\")"
   ]
  },
  {
   "cell_type": "code",
   "execution_count": 83,
   "metadata": {},
   "outputs": [
    {
     "name": "stderr",
     "output_type": "stream",
     "text": [
      "C:\\ProgramData\\Anaconda3\\lib\\site-packages\\seaborn\\distributions.py:283: UserWarning: Data must have variance to compute a kernel density estimate.\n",
      "  warnings.warn(msg, UserWarning)\n",
      "C:\\ProgramData\\Anaconda3\\lib\\site-packages\\seaborn\\distributions.py:283: UserWarning: Data must have variance to compute a kernel density estimate.\n",
      "  warnings.warn(msg, UserWarning)\n",
      "C:\\ProgramData\\Anaconda3\\lib\\site-packages\\seaborn\\distributions.py:283: UserWarning: Data must have variance to compute a kernel density estimate.\n",
      "  warnings.warn(msg, UserWarning)\n",
      "C:\\ProgramData\\Anaconda3\\lib\\site-packages\\seaborn\\distributions.py:283: UserWarning: Data must have variance to compute a kernel density estimate.\n",
      "  warnings.warn(msg, UserWarning)\n",
      "C:\\ProgramData\\Anaconda3\\lib\\site-packages\\seaborn\\distributions.py:283: UserWarning: Data must have variance to compute a kernel density estimate.\n",
      "  warnings.warn(msg, UserWarning)\n",
      "C:\\ProgramData\\Anaconda3\\lib\\site-packages\\seaborn\\distributions.py:283: UserWarning: Data must have variance to compute a kernel density estimate.\n",
      "  warnings.warn(msg, UserWarning)\n",
      "C:\\ProgramData\\Anaconda3\\lib\\site-packages\\seaborn\\distributions.py:283: UserWarning: Data must have variance to compute a kernel density estimate.\n",
      "  warnings.warn(msg, UserWarning)\n",
      "C:\\ProgramData\\Anaconda3\\lib\\site-packages\\seaborn\\distributions.py:283: UserWarning: Data must have variance to compute a kernel density estimate.\n",
      "  warnings.warn(msg, UserWarning)\n",
      "C:\\ProgramData\\Anaconda3\\lib\\site-packages\\seaborn\\distributions.py:283: UserWarning: Data must have variance to compute a kernel density estimate.\n",
      "  warnings.warn(msg, UserWarning)\n",
      "C:\\ProgramData\\Anaconda3\\lib\\site-packages\\seaborn\\distributions.py:283: UserWarning: Data must have variance to compute a kernel density estimate.\n",
      "  warnings.warn(msg, UserWarning)\n",
      "C:\\ProgramData\\Anaconda3\\lib\\site-packages\\seaborn\\distributions.py:283: UserWarning: Data must have variance to compute a kernel density estimate.\n",
      "  warnings.warn(msg, UserWarning)\n",
      "C:\\ProgramData\\Anaconda3\\lib\\site-packages\\seaborn\\distributions.py:283: UserWarning: Data must have variance to compute a kernel density estimate.\n",
      "  warnings.warn(msg, UserWarning)\n",
      "C:\\ProgramData\\Anaconda3\\lib\\site-packages\\seaborn\\distributions.py:283: UserWarning: Data must have variance to compute a kernel density estimate.\n",
      "  warnings.warn(msg, UserWarning)\n",
      "C:\\ProgramData\\Anaconda3\\lib\\site-packages\\seaborn\\distributions.py:283: UserWarning: Data must have variance to compute a kernel density estimate.\n",
      "  warnings.warn(msg, UserWarning)\n",
      "C:\\ProgramData\\Anaconda3\\lib\\site-packages\\seaborn\\distributions.py:283: UserWarning: Data must have variance to compute a kernel density estimate.\n",
      "  warnings.warn(msg, UserWarning)\n",
      "C:\\ProgramData\\Anaconda3\\lib\\site-packages\\seaborn\\distributions.py:283: UserWarning: Data must have variance to compute a kernel density estimate.\n",
      "  warnings.warn(msg, UserWarning)\n",
      "C:\\ProgramData\\Anaconda3\\lib\\site-packages\\seaborn\\distributions.py:283: UserWarning: Data must have variance to compute a kernel density estimate.\n",
      "  warnings.warn(msg, UserWarning)\n",
      "C:\\ProgramData\\Anaconda3\\lib\\site-packages\\seaborn\\distributions.py:283: UserWarning: Data must have variance to compute a kernel density estimate.\n",
      "  warnings.warn(msg, UserWarning)\n",
      "C:\\ProgramData\\Anaconda3\\lib\\site-packages\\seaborn\\distributions.py:283: UserWarning: Data must have variance to compute a kernel density estimate.\n",
      "  warnings.warn(msg, UserWarning)\n",
      "C:\\ProgramData\\Anaconda3\\lib\\site-packages\\seaborn\\distributions.py:283: UserWarning: Data must have variance to compute a kernel density estimate.\n",
      "  warnings.warn(msg, UserWarning)\n",
      "C:\\ProgramData\\Anaconda3\\lib\\site-packages\\seaborn\\distributions.py:283: UserWarning: Data must have variance to compute a kernel density estimate.\n",
      "  warnings.warn(msg, UserWarning)\n",
      "C:\\ProgramData\\Anaconda3\\lib\\site-packages\\seaborn\\distributions.py:283: UserWarning: Data must have variance to compute a kernel density estimate.\n",
      "  warnings.warn(msg, UserWarning)\n"
     ]
    },
    {
     "data": {
      "text/plain": [
       "<seaborn.axisgrid.PairGrid at 0x11bbf936af0>"
      ]
     },
     "execution_count": 83,
     "metadata": {},
     "output_type": "execute_result"
    },
    {
     "data": {
      "image/png": "[encoded data removed]",
      "text/plain": [
       "<Figure size 228.75x180 with 2 Axes>"
      ]
     },
     "metadata": {
      "needs_background": "light"
     },
     "output_type": "display_data"
    }
   ],
   "source": [
    "sns.pairplot(df,hue=\"Scores\")"
   ]
  },
  {
   "cell_type": "code",
   "execution_count": 84,
   "metadata": {},
   "outputs": [
    {
     "data": {
      "text/plain": [
       "(array([0., 0., 0., 0., 0., 1., 0., 0., 0., 0.]),\n",
       " array([-0.5, -0.4, -0.3, -0.2, -0.1,  0. ,  0.1,  0.2,  0.3,  0.4,  0.5]),\n",
       " <a list of 10 Patch objects>)"
      ]
     },
     "execution_count": 84,
     "metadata": {},
     "output_type": "execute_result"
    },
    {
     "data": {
      "image/png": "[encoded data removed]",
      "text/plain": [
       "<Figure size 432x288 with 1 Axes>"
      ]
     },
     "metadata": {
      "needs_background": "light"
     },
     "output_type": "display_data"
    }
   ],
   "source": [
    "plt.plot(figsize=(12,8))\n",
    "plt.hist(\"Hours\")"
   ]
  },
  {
   "cell_type": "code",
   "execution_count": 85,
   "metadata": {},
   "outputs": [
    {
     "data": {
      "text/plain": [
       "(array([0., 0., 0., 0., 0., 1., 0., 0., 0., 0.]),\n",
       " array([-0.5, -0.4, -0.3, -0.2, -0.1,  0. ,  0.1,  0.2,  0.3,  0.4,  0.5]),\n",
       " <a list of 10 Patch objects>)"
      ]
     },
     "execution_count": 85,
     "metadata": {},
     "output_type": "execute_result"
    },
    {
     "data": {
      "image/png": "[encoded data removed]",
      "text/plain": [
       "<Figure size 432x288 with 1 Axes>"
      ]
     },
     "metadata": {
      "needs_background": "light"
     },
     "output_type": "display_data"
    }
   ],
   "source": [
    "plt.hist(\"Scores\")"
   ]
  },
  {
   "cell_type": "markdown",
   "metadata": {},
   "source": [
    "### VISUALISING THE OUTLIERS "
   ]
  },
  {
   "cell_type": "code",
   "execution_count": 86,
   "metadata": {
    "scrolled": true
   },
   "outputs": [
    {
     "data": {
      "text/plain": [
       "{'whiskers': [<matplotlib.lines.Line2D at 0x11bbf3487c0>,\n",
       "  <matplotlib.lines.Line2D at 0x11bbf348b20>,\n",
       "  <matplotlib.lines.Line2D at 0x11bbf356fa0>,\n",
       "  <matplotlib.lines.Line2D at 0x11bbf363340>,\n",
       "  <matplotlib.lines.Line2D at 0x11bbf36e7c0>,\n",
       "  <matplotlib.lines.Line2D at 0x11bbf36eb50>,\n",
       "  <matplotlib.lines.Line2D at 0x11bbf378fd0>,\n",
       "  <matplotlib.lines.Line2D at 0x11bbf382370>,\n",
       "  <matplotlib.lines.Line2D at 0x11bbf3907f0>,\n",
       "  <matplotlib.lines.Line2D at 0x11bbf390b50>,\n",
       "  <matplotlib.lines.Line2D at 0x11bbf399fd0>,\n",
       "  <matplotlib.lines.Line2D at 0x11bbf3a6370>,\n",
       "  <matplotlib.lines.Line2D at 0x11bbf3b07f0>,\n",
       "  <matplotlib.lines.Line2D at 0x11bbf3b0b50>,\n",
       "  <matplotlib.lines.Line2D at 0x11bbf3bdfd0>,\n",
       "  <matplotlib.lines.Line2D at 0x11bbf3c7370>,\n",
       "  <matplotlib.lines.Line2D at 0x11bbf3d27f0>,\n",
       "  <matplotlib.lines.Line2D at 0x11bbf3d2b50>,\n",
       "  <matplotlib.lines.Line2D at 0x11bbf3ddfd0>,\n",
       "  <matplotlib.lines.Line2D at 0x11bbf3ea370>,\n",
       "  <matplotlib.lines.Line2D at 0x11bbf3f57f0>,\n",
       "  <matplotlib.lines.Line2D at 0x11bbf3f5b50>,\n",
       "  <matplotlib.lines.Line2D at 0x11bbf3fefd0>,\n",
       "  <matplotlib.lines.Line2D at 0x11bbf40a370>,\n",
       "  <matplotlib.lines.Line2D at 0x11bbf4187f0>,\n",
       "  <matplotlib.lines.Line2D at 0x11bbf418b50>,\n",
       "  <matplotlib.lines.Line2D at 0x11bbf421fd0>,\n",
       "  <matplotlib.lines.Line2D at 0x11bbf42c370>,\n",
       "  <matplotlib.lines.Line2D at 0x11bbf4367f0>,\n",
       "  <matplotlib.lines.Line2D at 0x11bbf436b50>,\n",
       "  <matplotlib.lines.Line2D at 0x11bbf954fd0>,\n",
       "  <matplotlib.lines.Line2D at 0x11bbf95e370>,\n",
       "  <matplotlib.lines.Line2D at 0x11bbf9697f0>,\n",
       "  <matplotlib.lines.Line2D at 0x11bbf969b50>,\n",
       "  <matplotlib.lines.Line2D at 0x11bbf974fd0>,\n",
       "  <matplotlib.lines.Line2D at 0x11bbf981370>,\n",
       "  <matplotlib.lines.Line2D at 0x11bbf98d7f0>,\n",
       "  <matplotlib.lines.Line2D at 0x11bbf98db50>,\n",
       "  <matplotlib.lines.Line2D at 0x11bbf997fd0>,\n",
       "  <matplotlib.lines.Line2D at 0x11bbf9a2370>,\n",
       "  <matplotlib.lines.Line2D at 0x11bbf9af7f0>,\n",
       "  <matplotlib.lines.Line2D at 0x11bbf9afb50>,\n",
       "  <matplotlib.lines.Line2D at 0x11bbf9b9fd0>,\n",
       "  <matplotlib.lines.Line2D at 0x11bbf9c4370>,\n",
       "  <matplotlib.lines.Line2D at 0x11bbf9d07f0>,\n",
       "  <matplotlib.lines.Line2D at 0x11bbf9d0b50>,\n",
       "  <matplotlib.lines.Line2D at 0x11bbf9dcfd0>,\n",
       "  <matplotlib.lines.Line2D at 0x11bbf9e6370>,\n",
       "  <matplotlib.lines.Line2D at 0x11bbf9f27f0>,\n",
       "  <matplotlib.lines.Line2D at 0x11bbf9f2b50>],\n",
       " 'caps': [<matplotlib.lines.Line2D at 0x11bbf348e80>,\n",
       "  <matplotlib.lines.Line2D at 0x11bbf356220>,\n",
       "  <matplotlib.lines.Line2D at 0x11bbf3636a0>,\n",
       "  <matplotlib.lines.Line2D at 0x11bbf363a00>,\n",
       "  <matplotlib.lines.Line2D at 0x11bbf36eeb0>,\n",
       "  <matplotlib.lines.Line2D at 0x11bbf378250>,\n",
       "  <matplotlib.lines.Line2D at 0x11bbf3826d0>,\n",
       "  <matplotlib.lines.Line2D at 0x11bbf382a30>,\n",
       "  <matplotlib.lines.Line2D at 0x11bbf390eb0>,\n",
       "  <matplotlib.lines.Line2D at 0x11bbf399250>,\n",
       "  <matplotlib.lines.Line2D at 0x11bbf3a66d0>,\n",
       "  <matplotlib.lines.Line2D at 0x11bbf3a6a30>,\n",
       "  <matplotlib.lines.Line2D at 0x11bbf3b0eb0>,\n",
       "  <matplotlib.lines.Line2D at 0x11bbf3bd250>,\n",
       "  <matplotlib.lines.Line2D at 0x11bbf3c76d0>,\n",
       "  <matplotlib.lines.Line2D at 0x11bbf3c7a30>,\n",
       "  <matplotlib.lines.Line2D at 0x11bbf3d2eb0>,\n",
       "  <matplotlib.lines.Line2D at 0x11bbf3dd250>,\n",
       "  <matplotlib.lines.Line2D at 0x11bbf3ea6d0>,\n",
       "  <matplotlib.lines.Line2D at 0x11bbf3eaa30>,\n",
       "  <matplotlib.lines.Line2D at 0x11bbf3f5eb0>,\n",
       "  <matplotlib.lines.Line2D at 0x11bbf3fe250>,\n",
       "  <matplotlib.lines.Line2D at 0x11bbf40a6d0>,\n",
       "  <matplotlib.lines.Line2D at 0x11bbf40aa30>,\n",
       "  <matplotlib.lines.Line2D at 0x11bbf418eb0>,\n",
       "  <matplotlib.lines.Line2D at 0x11bbf421250>,\n",
       "  <matplotlib.lines.Line2D at 0x11bbf42c6d0>,\n",
       "  <matplotlib.lines.Line2D at 0x11bbf42ca30>,\n",
       "  <matplotlib.lines.Line2D at 0x11bbf436eb0>,\n",
       "  <matplotlib.lines.Line2D at 0x11bbf954250>,\n",
       "  <matplotlib.lines.Line2D at 0x11bbf95e6d0>,\n",
       "  <matplotlib.lines.Line2D at 0x11bbf95ea30>,\n",
       "  <matplotlib.lines.Line2D at 0x11bbf969eb0>,\n",
       "  <matplotlib.lines.Line2D at 0x11bbf974250>,\n",
       "  <matplotlib.lines.Line2D at 0x11bbf9816d0>,\n",
       "  <matplotlib.lines.Line2D at 0x11bbf981a30>,\n",
       "  <matplotlib.lines.Line2D at 0x11bbf98deb0>,\n",
       "  <matplotlib.lines.Line2D at 0x11bbf997250>,\n",
       "  <matplotlib.lines.Line2D at 0x11bbf9a26d0>,\n",
       "  <matplotlib.lines.Line2D at 0x11bbf9a2a30>,\n",
       "  <matplotlib.lines.Line2D at 0x11bbf9afeb0>,\n",
       "  <matplotlib.lines.Line2D at 0x11bbf9b9250>,\n",
       "  <matplotlib.lines.Line2D at 0x11bbf9c46d0>,\n",
       "  <matplotlib.lines.Line2D at 0x11bbf9c4a30>,\n",
       "  <matplotlib.lines.Line2D at 0x11bbf9d0eb0>,\n",
       "  <matplotlib.lines.Line2D at 0x11bbf9dc250>,\n",
       "  <matplotlib.lines.Line2D at 0x11bbf9e66d0>,\n",
       "  <matplotlib.lines.Line2D at 0x11bbf9e6a30>,\n",
       "  <matplotlib.lines.Line2D at 0x11bbf9f2eb0>,\n",
       "  <matplotlib.lines.Line2D at 0x11bbf9fd250>],\n",
       " 'boxes': [<matplotlib.lines.Line2D at 0x11bbf348460>,\n",
       "  <matplotlib.lines.Line2D at 0x11bbf356c40>,\n",
       "  <matplotlib.lines.Line2D at 0x11bbf36e460>,\n",
       "  <matplotlib.lines.Line2D at 0x11bbf378c70>,\n",
       "  <matplotlib.lines.Line2D at 0x11bbf390490>,\n",
       "  <matplotlib.lines.Line2D at 0x11bbf399c70>,\n",
       "  <matplotlib.lines.Line2D at 0x11bbf3b0490>,\n",
       "  <matplotlib.lines.Line2D at 0x11bbf3bdc70>,\n",
       "  <matplotlib.lines.Line2D at 0x11bbf3d2490>,\n",
       "  <matplotlib.lines.Line2D at 0x11bbf3ddc70>,\n",
       "  <matplotlib.lines.Line2D at 0x11bbf3f5490>,\n",
       "  <matplotlib.lines.Line2D at 0x11bbf3fec70>,\n",
       "  <matplotlib.lines.Line2D at 0x11bbf418490>,\n",
       "  <matplotlib.lines.Line2D at 0x11bbf421c70>,\n",
       "  <matplotlib.lines.Line2D at 0x11bbf436490>,\n",
       "  <matplotlib.lines.Line2D at 0x11bbf954c70>,\n",
       "  <matplotlib.lines.Line2D at 0x11bbf969490>,\n",
       "  <matplotlib.lines.Line2D at 0x11bbf974c70>,\n",
       "  <matplotlib.lines.Line2D at 0x11bbf98d490>,\n",
       "  <matplotlib.lines.Line2D at 0x11bbf997c70>,\n",
       "  <matplotlib.lines.Line2D at 0x11bbf9af490>,\n",
       "  <matplotlib.lines.Line2D at 0x11bbf9b9c70>,\n",
       "  <matplotlib.lines.Line2D at 0x11bbf9d0490>,\n",
       "  <matplotlib.lines.Line2D at 0x11bbf9dcc70>,\n",
       "  <matplotlib.lines.Line2D at 0x11bbf9f2490>],\n",
       " 'medians': [<matplotlib.lines.Line2D at 0x11bbf356580>,\n",
       "  <matplotlib.lines.Line2D at 0x11bbf363d60>,\n",
       "  <matplotlib.lines.Line2D at 0x11bbf3785b0>,\n",
       "  <matplotlib.lines.Line2D at 0x11bbf382d90>,\n",
       "  <matplotlib.lines.Line2D at 0x11bbf3995b0>,\n",
       "  <matplotlib.lines.Line2D at 0x11bbf3a6d90>,\n",
       "  <matplotlib.lines.Line2D at 0x11bbf3bd5b0>,\n",
       "  <matplotlib.lines.Line2D at 0x11bbf3c7d90>,\n",
       "  <matplotlib.lines.Line2D at 0x11bbf3dd5b0>,\n",
       "  <matplotlib.lines.Line2D at 0x11bbf3ead90>,\n",
       "  <matplotlib.lines.Line2D at 0x11bbf3fe5b0>,\n",
       "  <matplotlib.lines.Line2D at 0x11bbf40ad90>,\n",
       "  <matplotlib.lines.Line2D at 0x11bbf4215b0>,\n",
       "  <matplotlib.lines.Line2D at 0x11bbf42cd90>,\n",
       "  <matplotlib.lines.Line2D at 0x11bbf9545b0>,\n",
       "  <matplotlib.lines.Line2D at 0x11bbf95ed90>,\n",
       "  <matplotlib.lines.Line2D at 0x11bbf9745b0>,\n",
       "  <matplotlib.lines.Line2D at 0x11bbf981d90>,\n",
       "  <matplotlib.lines.Line2D at 0x11bbf9975b0>,\n",
       "  <matplotlib.lines.Line2D at 0x11bbf9a2d90>,\n",
       "  <matplotlib.lines.Line2D at 0x11bbf9b95b0>,\n",
       "  <matplotlib.lines.Line2D at 0x11bbf9c4d90>,\n",
       "  <matplotlib.lines.Line2D at 0x11bbf9dc5b0>,\n",
       "  <matplotlib.lines.Line2D at 0x11bbf9e6d90>,\n",
       "  <matplotlib.lines.Line2D at 0x11bbf9fd5b0>],\n",
       " 'fliers': [<matplotlib.lines.Line2D at 0x11bbf356880>,\n",
       "  <matplotlib.lines.Line2D at 0x11bbf36e0a0>,\n",
       "  <matplotlib.lines.Line2D at 0x11bbf3788b0>,\n",
       "  <matplotlib.lines.Line2D at 0x11bbf3900d0>,\n",
       "  <matplotlib.lines.Line2D at 0x11bbf3998b0>,\n",
       "  <matplotlib.lines.Line2D at 0x11bbf3b00d0>,\n",
       "  <matplotlib.lines.Line2D at 0x11bbf3bd8b0>,\n",
       "  <matplotlib.lines.Line2D at 0x11bbf3d20d0>,\n",
       "  <matplotlib.lines.Line2D at 0x11bbf3dd8b0>,\n",
       "  <matplotlib.lines.Line2D at 0x11bbf3f50d0>,\n",
       "  <matplotlib.lines.Line2D at 0x11bbf3fe8b0>,\n",
       "  <matplotlib.lines.Line2D at 0x11bbf4180d0>,\n",
       "  <matplotlib.lines.Line2D at 0x11bbf4218b0>,\n",
       "  <matplotlib.lines.Line2D at 0x11bbf4360d0>,\n",
       "  <matplotlib.lines.Line2D at 0x11bbf9548b0>,\n",
       "  <matplotlib.lines.Line2D at 0x11bbf9690d0>,\n",
       "  <matplotlib.lines.Line2D at 0x11bbf9748b0>,\n",
       "  <matplotlib.lines.Line2D at 0x11bbf98d0d0>,\n",
       "  <matplotlib.lines.Line2D at 0x11bbf9978b0>,\n",
       "  <matplotlib.lines.Line2D at 0x11bbf9af0d0>,\n",
       "  <matplotlib.lines.Line2D at 0x11bbf9b98b0>,\n",
       "  <matplotlib.lines.Line2D at 0x11bbf9d00d0>,\n",
       "  <matplotlib.lines.Line2D at 0x11bbf9dc8b0>,\n",
       "  <matplotlib.lines.Line2D at 0x11bbf9f20d0>,\n",
       "  <matplotlib.lines.Line2D at 0x11bbf9fd8b0>],\n",
       " 'means': []}"
      ]
     },
     "execution_count": 86,
     "metadata": {},
     "output_type": "execute_result"
    },
    {
     "data": {
      "image/png": "[encoded data removed]",
      "text/plain": [
       "<Figure size 432x288 with 1 Axes>"
      ]
     },
     "metadata": {
      "needs_background": "light"
     },
     "output_type": "display_data"
    }
   ],
   "source": [
    "plt.boxplot(df)"
   ]
  },
  {
   "cell_type": "code",
   "execution_count": 87,
   "metadata": {},
   "outputs": [
    {
     "data": {
      "text/plain": [
       "(array([1, 2]), <a list of 2 Text major ticklabel objects>)"
      ]
     },
     "execution_count": 87,
     "metadata": {},
     "output_type": "execute_result"
    },
    {
     "data": {
      "image/png": "[encoded data removed]",
      "text/plain": [
       "<Figure size 864x576 with 1 Axes>"
      ]
     },
     "metadata": {
      "needs_background": "light"
     },
     "output_type": "display_data"
    }
   ],
   "source": [
    "plt.subplots(figsize=(12,8))\n",
    "df.boxplot(patch_artist = True)\n",
    "plt.xticks(rotation=90)"
   ]
  },
  {
   "cell_type": "code",
   "execution_count": 88,
   "metadata": {},
   "outputs": [
    {
     "data": {
      "text/plain": [
       "array([[<matplotlib.axes._subplots.AxesSubplot object at 0x0000011BBFAD8BB0>,\n",
       "        <matplotlib.axes._subplots.AxesSubplot object at 0x0000011BBFB11910>]],\n",
       "      dtype=object)"
      ]
     },
     "execution_count": 88,
     "metadata": {},
     "output_type": "execute_result"
    },
    {
     "data": {
      "image/png": "[encoded data removed]",
      "text/plain": [
       "<Figure size 864x576 with 2 Axes>"
      ]
     },
     "metadata": {
      "needs_background": "light"
     },
     "output_type": "display_data"
    }
   ],
   "source": [
    "df.hist(figsize=(12,8))"
   ]
  },
  {
   "cell_type": "markdown",
   "metadata": {},
   "source": [
    "### PREPARING THE DATA\n",
    "The next step is to divide the data into \"attributes\" (inputs) and \"labels\" (outputs)."
   ]
  },
  {
   "cell_type": "code",
   "execution_count": 89,
   "metadata": {},
   "outputs": [],
   "source": [
    "x = df.iloc[:,:-1].values\n",
    "y = df.iloc[:,1].values"
   ]
  },
  {
   "cell_type": "code",
   "execution_count": 90,
   "metadata": {},
   "outputs": [
    {
     "data": {
      "text/plain": [
       "((25, 1), (25,))"
      ]
     },
     "execution_count": 90,
     "metadata": {},
     "output_type": "execute_result"
    }
   ],
   "source": [
    "x.shape,y.shape"
   ]
  },
  {
   "cell_type": "markdown",
   "metadata": {},
   "source": [
    "### DIVING THE DATA FOR TRAINING AND TESTING OF DATA\n",
    "Now that we have our attributes and labels, the next step is to split this data into training and test sets. We'll do this by using Scikit-Learn's built-in train_test_split() method:"
   ]
  },
  {
   "cell_type": "code",
   "execution_count": 91,
   "metadata": {},
   "outputs": [],
   "source": [
    "from sklearn.model_selection import train_test_split\n",
    "train_x,test_x,train_y,test_y  = train_test_split(x,y,random_state = 56,test_size = 0.2)"
   ]
  },
  {
   "cell_type": "code",
   "execution_count": 92,
   "metadata": {},
   "outputs": [
    {
     "data": {
      "text/plain": [
       "((20, 1), (5, 1), (20,), (5,))"
      ]
     },
     "execution_count": 92,
     "metadata": {},
     "output_type": "execute_result"
    }
   ],
   "source": [
    "train_x.shape,test_x.shape,train_y.shape,test_y.shape"
   ]
  },
  {
   "cell_type": "markdown",
   "metadata": {},
   "source": [
    "### TRAING THE ALGORITHM FOR PREDICTION \n",
    "We have split our data into training and testing sets, and now is finally the time to train our algorithm."
   ]
  },
  {
   "cell_type": "code",
   "execution_count": 93,
   "metadata": {},
   "outputs": [
    {
     "data": {
      "text/plain": [
       "LinearRegression()"
      ]
     },
     "execution_count": 93,
     "metadata": {},
     "output_type": "execute_result"
    }
   ],
   "source": [
    "from sklearn.linear_model import LinearRegression as LR\n",
    "lr = LR()\n",
    "lr.fit(train_x,train_y)"
   ]
  },
  {
   "cell_type": "code",
   "execution_count": 94,
   "metadata": {},
   "outputs": [
    {
     "data": {
      "text/plain": [
       "array([10.17148086])"
      ]
     },
     "execution_count": 94,
     "metadata": {},
     "output_type": "execute_result"
    }
   ],
   "source": [
    "lr.coef_"
   ]
  },
  {
   "cell_type": "code",
   "execution_count": 95,
   "metadata": {},
   "outputs": [
    {
     "data": {
      "text/plain": [
       "1.2183178165035429"
      ]
     },
     "execution_count": 95,
     "metadata": {},
     "output_type": "execute_result"
    }
   ],
   "source": [
    "lr.intercept_"
   ]
  },
  {
   "cell_type": "code",
   "execution_count": 96,
   "metadata": {},
   "outputs": [],
   "source": [
    "line = lr.coef_*x + lr.intercept_"
   ]
  },
  {
   "cell_type": "code",
   "execution_count": 97,
   "metadata": {},
   "outputs": [
    {
     "data": {
      "text/plain": [
       "array([[26.64701997],\n",
       "       [53.09287022],\n",
       "       [33.76705658],\n",
       "       [87.67590515],\n",
       "       [36.81850084],\n",
       "       [16.47553911],\n",
       "       [94.79594175],\n",
       "       [57.16146256],\n",
       "       [85.64160898],\n",
       "       [28.68131615],\n",
       "       [79.53872046],\n",
       "       [61.23005491],\n",
       "       [46.9899817 ],\n",
       "       [34.78420466],\n",
       "       [12.40694677],\n",
       "       [91.74449749],\n",
       "       [26.64701997],\n",
       "       [20.54413146],\n",
       "       [63.26435108],\n",
       "       [76.4872762 ],\n",
       "       [28.68131615],\n",
       "       [50.04142596],\n",
       "       [39.86994509],\n",
       "       [71.40153577],\n",
       "       [80.55586854]])"
      ]
     },
     "execution_count": 97,
     "metadata": {},
     "output_type": "execute_result"
    }
   ],
   "source": [
    "line"
   ]
  },
  {
   "cell_type": "code",
   "execution_count": 98,
   "metadata": {},
   "outputs": [
    {
     "data": {
      "text/plain": [
       "[<matplotlib.lines.Line2D at 0x11bbfc04730>]"
      ]
     },
     "execution_count": 98,
     "metadata": {},
     "output_type": "execute_result"
    },
    {
     "data": {
      "image/png": "[encoded data removed]",
      "text/plain": [
       "<Figure size 432x288 with 1 Axes>"
      ]
     },
     "metadata": {
      "needs_background": "light"
     },
     "output_type": "display_data"
    }
   ],
   "source": [
    "plt.scatter(x,y)\n",
    "plt.plot(x,line,color = \"red\")"
   ]
  },
  {
   "cell_type": "markdown",
   "metadata": {},
   "source": [
    "### MAKING PREDICTION "
   ]
  },
  {
   "cell_type": "code",
   "execution_count": 99,
   "metadata": {},
   "outputs": [],
   "source": [
    "y_pred = lr.predict(test_x)"
   ]
  },
  {
   "cell_type": "code",
   "execution_count": 100,
   "metadata": {},
   "outputs": [
    {
     "data": {
      "text/plain": [
       "array([26.64701997, 76.4872762 , 39.86994509, 87.67590515, 63.26435108])"
      ]
     },
     "execution_count": 100,
     "metadata": {},
     "output_type": "execute_result"
    }
   ],
   "source": [
    "y_pred"
   ]
  },
  {
   "cell_type": "markdown",
   "metadata": {},
   "source": [
    "### COMPARING THE ACTUAL AND PREDICTED VALUE "
   ]
  },
  {
   "cell_type": "code",
   "execution_count": 101,
   "metadata": {},
   "outputs": [],
   "source": [
    "df = pd.DataFrame({\"Actual\": test_y ,\"predcit\": y_pred})"
   ]
  },
  {
   "cell_type": "code",
   "execution_count": 102,
   "metadata": {},
   "outputs": [
    {
     "data": {
      "text/html": [
       "<div>\n",
       "<style scoped>\n",
       "    .dataframe tbody tr th:only-of-type {\n",
       "        vertical-align: middle;\n",
       "    }\n",
       "\n",
       "    .dataframe tbody tr th {\n",
       "        vertical-align: top;\n",
       "    }\n",
       "\n",
       "    .dataframe thead th {\n",
       "        text-align: right;\n",
       "    }\n",
       "</style>\n",
       "<table border=\"1\" class=\"dataframe\">\n",
       "  <thead>\n",
       "    <tr style=\"text-align: right;\">\n",
       "      <th></th>\n",
       "      <th>Actual</th>\n",
       "      <th>predcit</th>\n",
       "    </tr>\n",
       "  </thead>\n",
       "  <tbody>\n",
       "    <tr>\n",
       "      <th>0</th>\n",
       "      <td>30</td>\n",
       "      <td>26.647020</td>\n",
       "    </tr>\n",
       "    <tr>\n",
       "      <th>1</th>\n",
       "      <td>69</td>\n",
       "      <td>76.487276</td>\n",
       "    </tr>\n",
       "    <tr>\n",
       "      <th>2</th>\n",
       "      <td>35</td>\n",
       "      <td>39.869945</td>\n",
       "    </tr>\n",
       "    <tr>\n",
       "      <th>3</th>\n",
       "      <td>75</td>\n",
       "      <td>87.675905</td>\n",
       "    </tr>\n",
       "    <tr>\n",
       "      <th>4</th>\n",
       "      <td>67</td>\n",
       "      <td>63.264351</td>\n",
       "    </tr>\n",
       "  </tbody>\n",
       "</table>\n",
       "</div>"
      ],
      "text/plain": [
       "   Actual    predcit\n",
       "0      30  26.647020\n",
       "1      69  76.487276\n",
       "2      35  39.869945\n",
       "3      75  87.675905\n",
       "4      67  63.264351"
      ]
     },
     "execution_count": 102,
     "metadata": {},
     "output_type": "execute_result"
    }
   ],
   "source": [
    "df"
   ]
  },
  {
   "cell_type": "code",
   "execution_count": 103,
   "metadata": {},
   "outputs": [
    {
     "data": {
      "image/png": "[encoded data removed]",
      "text/plain": [
       "<Figure size 432x288 with 1 Axes>"
      ]
     },
     "metadata": {
      "needs_background": "light"
     },
     "output_type": "display_data"
    }
   ],
   "source": [
    "sns.lineplot(data = df)\n",
    "plt.show()"
   ]
  },
  {
   "cell_type": "markdown",
   "metadata": {},
   "source": [
    "### FOR OWN DATA(HOURS) PERCENTAGE OF STUDENT "
   ]
  },
  {
   "cell_type": "code",
   "execution_count": 104,
   "metadata": {},
   "outputs": [
    {
     "name": "stdout",
     "output_type": "stream",
     "text": [
      "hour is = 9.25\n",
      "percentage is =26.647019972945014\n"
     ]
    }
   ],
   "source": [
    "hour = 9.25\n",
    "pred_own = lr.predict(test_x)\n",
    "print(\"hour is = {}\".format(hour))\n",
    "print(\"percentage is ={}\".format(pred_own[0]))"
   ]
  },
  {
   "cell_type": "markdown",
   "metadata": {},
   "source": [
    "### AVERAGE VALUE AND ERROR IN PREDICTION USING LINEAR REGRESSION    # Evaluating the model\n",
    "The final step is to evaluate the performance of algorithm. This step is particularly important to compare how well different algorithms perform on a particular dataset. For simplicity here, we have chosen the mean square error. There are many such metrics."
   ]
  },
  {
   "cell_type": "code",
   "execution_count": 105,
   "metadata": {},
   "outputs": [
    {
     "data": {
      "text/plain": [
       "53.13035787401302"
      ]
     },
     "execution_count": 105,
     "metadata": {},
     "output_type": "execute_result"
    }
   ],
   "source": [
    "from sklearn.metrics import mean_squared_error as mse \n",
    "mse(test_y,y_pred)"
   ]
  },
  {
   "cell_type": "code",
   "execution_count": 106,
   "metadata": {},
   "outputs": [
    {
     "data": {
      "text/plain": [
       "7.289057406414976"
      ]
     },
     "execution_count": 106,
     "metadata": {},
     "output_type": "execute_result"
    }
   ],
   "source": [
    "rmse = (np.sqrt(mse(test_y,y_pred)))\n",
    "rmse"
   ]
  },
  {
   "cell_type": "code",
   "execution_count": 107,
   "metadata": {},
   "outputs": [
    {
     "data": {
      "text/plain": [
       "1.0"
      ]
     },
     "execution_count": 107,
     "metadata": {},
     "output_type": "execute_result"
    }
   ],
   "source": [
    "score = lr.score(test_x,y_pred)\n",
    "score"
   ]
  },
  {
   "cell_type": "code",
   "execution_count": 108,
   "metadata": {},
   "outputs": [
    {
     "data": {
      "text/plain": [
       "0.963448950354653"
      ]
     },
     "execution_count": 108,
     "metadata": {},
     "output_type": "execute_result"
    }
   ],
   "source": [
    "score1= lr.score(train_x,train_y)\n",
    "score1\n"
   ]
  },
  {
   "cell_type": "markdown",
   "metadata": {},
   "source": [
    "## THANK YOU "
   ]
  },
  {
   "cell_type": "code",
   "execution_count": null,
   "metadata": {},
   "outputs": [],
   "source": []
  },
  {
   "cell_type": "code",
   "execution_count": null,
   "metadata": {},
   "outputs": [],
   "source": []
  }
 ],
 "metadata": {
  "kernelspec": {
   "display_name": "Python 3",
   "language": "python",
   "name": "python3"
  },
  "language_info": {
   "codemirror_mode": {
    "name": "ipython",
    "version": 3
   },
   "file_extension": ".py",
   "mimetype": "text/x-python",
   "name": "python",
   "nbconvert_exporter": "python",
   "pygments_lexer": "ipython3",
   "version": "3.8.3"
  }
 },
 "nbformat": 4,
 "nbformat_minor": 4
}
